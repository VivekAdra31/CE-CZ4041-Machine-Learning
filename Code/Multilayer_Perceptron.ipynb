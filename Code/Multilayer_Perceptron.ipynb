{
 "cells": [
  {
   "cell_type": "code",
   "execution_count": 1,
   "id": "3639ed0e",
   "metadata": {
    "_cell_guid": "b1076dfc-b9ad-4769-8c92-a6c4dae69d19",
    "_uuid": "8f2839f25d086af736a60e9eeb907d3b93b6e0e5",
    "execution": {
     "iopub.execute_input": "2021-11-27T10:30:16.417157Z",
     "iopub.status.busy": "2021-11-27T10:30:16.415640Z",
     "iopub.status.idle": "2021-11-27T10:30:17.374894Z",
     "shell.execute_reply": "2021-11-27T10:30:17.374322Z",
     "shell.execute_reply.started": "2021-11-25T18:53:45.332878Z"
    },
    "papermill": {
     "duration": 0.9705,
     "end_time": "2021-11-27T10:30:17.375077",
     "exception": false,
     "start_time": "2021-11-27T10:30:16.404577",
     "status": "completed"
    },
    "tags": []
   },
   "outputs": [],
   "source": [
    "import numpy as np # linear algebra\n",
    "import pandas as pd # data processing, CSV file I/O (e.g. pd.read_csv)\n",
    "import matplotlib.pyplot as plt\n",
    "import seaborn as sns\n",
    "\n",
    "from sklearn.metrics import f1_score, make_scorer\n",
    "from sklearn.model_selection import cross_val_score\n",
    "from sklearn.preprocessing import MinMaxScaler\n",
    "\n",
    "from sklearn.pipeline import Pipeline\n",
    "from sklearn.model_selection import KFold\n",
    "import time\n",
    "from contextlib import contextmanager\n",
    "from sklearn.neural_network import MLPClassifier\n",
    "# from sklearn.preprocessing import Imputer\n",
    "from sklearn.impute import SimpleImputer\n",
    "\n",
    "@contextmanager\n",
    "def timer(title):\n",
    "    t0 = time.time()\n",
    "    yield\n",
    "    print(\"{} - done in {:.0f}s\".format(title, time.time() - t0))\n",
    "# Custom scorer for cross validation\n",
    "scorer = make_scorer(f1_score, greater_is_better=True, average = 'macro')\n"
   ]
  },
  {
   "cell_type": "code",
   "execution_count": 2,
   "id": "2d5cde24",
   "metadata": {
    "execution": {
     "iopub.execute_input": "2021-11-27T10:30:17.395698Z",
     "iopub.status.busy": "2021-11-27T10:30:17.395126Z",
     "iopub.status.idle": "2021-11-27T10:30:17.397765Z",
     "shell.execute_reply": "2021-11-27T10:30:17.397354Z",
     "shell.execute_reply.started": "2021-11-25T18:53:46.585666Z"
    },
    "papermill": {
     "duration": 0.01409,
     "end_time": "2021-11-27T10:30:17.397866",
     "exception": false,
     "start_time": "2021-11-27T10:30:17.383776",
     "status": "completed"
    },
    "tags": []
   },
   "outputs": [],
   "source": [
    "def readCSV():\n",
    "    train = pd.read_csv('../input/final_training_set.csv')\n",
    "    test = pd.read_csv('../input/final_testing_set.csv')\n",
    "    train = train.drop(train.columns[0], axis=1)\n",
    "    test = test.drop(test.columns[0], axis=1)\n",
    "\n",
    "    train.drop(columns=['idhogar','Id'], inplace=True)\n",
    "    test.drop(columns=['idhogar','Id','Target'], inplace=True)\n",
    "    return train, test"
   ]
  },
  {
   "cell_type": "code",
   "execution_count": 3,
   "id": "ab645848",
   "metadata": {
    "execution": {
     "iopub.execute_input": "2021-11-27T10:30:17.416307Z",
     "iopub.status.busy": "2021-11-27T10:30:17.415545Z",
     "iopub.status.idle": "2021-11-27T10:30:17.417888Z",
     "shell.execute_reply": "2021-11-27T10:30:17.417501Z",
     "shell.execute_reply.started": "2021-11-25T19:07:54.642613Z"
    },
    "papermill": {
     "duration": 0.014587,
     "end_time": "2021-11-27T10:30:17.418019",
     "exception": false,
     "start_time": "2021-11-27T10:30:17.403432",
     "status": "completed"
    },
    "tags": []
   },
   "outputs": [],
   "source": [
    "\n",
    "def model_training_MLP(train,test):\n",
    "    y = train['Target']\n",
    "    y = np.array(y).astype(int)\n",
    "    train.drop(columns=['Target'], inplace=True)\n",
    "\n",
    "    pipeline = Pipeline([('imputer', SimpleImputer(strategy = 'median')), \n",
    "                          ('scaler', MinMaxScaler())])\n",
    "\n",
    "    # Fit and transform training data\n",
    "    train_set = pipeline.fit_transform(train)\n",
    "    test_set = pipeline.transform(test)\n",
    "\n",
    "    clf = MLPClassifier(hidden_layer_sizes=(8))\n",
    "\n",
    "    kf = KFold(n_splits=5)\n",
    "\n",
    "    predicts_result = []\n",
    "#     for train_indices, test_indices  in kf.split(train_set):\n",
    "\n",
    "#         clf.fit(train_set[train_indices], y[train_indices])\n",
    "#         predicts_result.append(clf.predict(test_set))\n",
    "        \n",
    "    clf.fit(train_set, y)\n",
    "    predicts_result.append(clf.predict(test_set))\n",
    "\n",
    "    return predicts_result"
   ]
  },
  {
   "cell_type": "code",
   "execution_count": 4,
   "id": "cbcf059b",
   "metadata": {
    "execution": {
     "iopub.execute_input": "2021-11-27T10:30:17.437076Z",
     "iopub.status.busy": "2021-11-27T10:30:17.436325Z",
     "iopub.status.idle": "2021-11-27T10:30:17.438677Z",
     "shell.execute_reply": "2021-11-27T10:30:17.438282Z",
     "shell.execute_reply.started": "2021-11-25T19:18:46.405719Z"
    },
    "papermill": {
     "duration": 0.014923,
     "end_time": "2021-11-27T10:30:17.438777",
     "exception": false,
     "start_time": "2021-11-27T10:30:17.423854",
     "status": "completed"
    },
    "tags": []
   },
   "outputs": [],
   "source": [
    "def main(debug = False):\n",
    "    train, test = readCSV()\n",
    "\n",
    "    with timer(\"Automatic Model Tuning...\"):\n",
    "        predicts_result = model_training_MLP(train,test)\n",
    "    with timer(\"Final Submission\"):\n",
    "        results = pd.read_csv('../input/traintest-set/final_testing_set.csv')\n",
    "        results['Target'] = np.array(predicts_result).mean(axis=0).round().astype(int)\n",
    "        results = results[['idhogar','Target']].copy()\n",
    "        test = pd.read_csv('../input/costa-rican-household-poverty-prediction/test.csv')\n",
    "        test = test[['Id','idhogar']].copy()\n",
    "        submission = pd.merge(test,results, on='idhogar', how='outer')\n",
    "        submission.fillna(4, inplace=True)\n",
    "        submission.drop(columns='idhogar', inplace= True)\n",
    "        submission = submission.astype({'Target': int})\n",
    "        submission.to_csv('submission.csv', index = False)"
   ]
  },
  {
   "cell_type": "code",
   "execution_count": 5,
   "id": "dba152fa",
   "metadata": {
    "execution": {
     "iopub.execute_input": "2021-11-27T10:30:17.455282Z",
     "iopub.status.busy": "2021-11-27T10:30:17.454715Z",
     "iopub.status.idle": "2021-11-27T10:30:24.119953Z",
     "shell.execute_reply": "2021-11-27T10:30:24.119494Z",
     "shell.execute_reply.started": "2021-11-25T19:10:09.66919Z"
    },
    "papermill": {
     "duration": 6.673912,
     "end_time": "2021-11-27T10:30:24.120090",
     "exception": false,
     "start_time": "2021-11-27T10:30:17.446178",
     "status": "completed"
    },
    "tags": []
   },
   "outputs": [
    {
     "name": "stderr",
     "output_type": "stream",
     "text": [
      "/opt/conda/lib/python3.7/site-packages/sklearn/neural_network/_multilayer_perceptron.py:585: ConvergenceWarning: Stochastic Optimizer: Maximum iterations (200) reached and the optimization hasn't converged yet.\n",
      "  % self.max_iter, ConvergenceWarning)\n"
     ]
    },
    {
     "name": "stdout",
     "output_type": "stream",
     "text": [
      "Automatic Model Tuning... - done in 6s\n",
      "Final Submission - done in 1s\n",
      "Full model run - done in 7s\n"
     ]
    }
   ],
   "source": [
    "if __name__ == \"__main__\":\n",
    "    with timer(\"Full model run\"):\n",
    "        main(debug= False)"
   ]
  },
  {
   "cell_type": "code",
   "execution_count": 6,
   "id": "f116a94f",
   "metadata": {
    "execution": {
     "iopub.execute_input": "2021-11-27T10:30:24.141181Z",
     "iopub.status.busy": "2021-11-27T10:30:24.140439Z",
     "iopub.status.idle": "2021-11-27T10:30:24.143612Z",
     "shell.execute_reply": "2021-11-27T10:30:24.144055Z",
     "shell.execute_reply.started": "2021-11-25T19:12:02.453299Z"
    },
    "papermill": {
     "duration": 0.016127,
     "end_time": "2021-11-27T10:30:24.144180",
     "exception": false,
     "start_time": "2021-11-27T10:30:24.128053",
     "status": "completed"
    },
    "tags": []
   },
   "outputs": [
    {
     "data": {
      "text/html": [
       "<a href='submission.csv' target='_blank'>submission.csv</a><br>"
      ],
      "text/plain": [
       "/kaggle/working/submission.csv"
      ]
     },
     "execution_count": 6,
     "metadata": {},
     "output_type": "execute_result"
    }
   ],
   "source": [
    "from IPython.display import FileLink\n",
    "FileLink('submission.csv')\n"
   ]
  },
  {
   "cell_type": "code",
   "execution_count": null,
   "id": "b72bae06",
   "metadata": {
    "papermill": {
     "duration": 0.006527,
     "end_time": "2021-11-27T10:30:24.158499",
     "exception": false,
     "start_time": "2021-11-27T10:30:24.151972",
     "status": "completed"
    },
    "tags": []
   },
   "outputs": [],
   "source": []
  }
 ],
 "metadata": {
  "kernelspec": {
   "display_name": "Python 3",
   "language": "python",
   "name": "python3"
  },
  "language_info": {
   "codemirror_mode": {
    "name": "ipython",
    "version": 3
   },
   "file_extension": ".py",
   "mimetype": "text/x-python",
   "name": "python",
   "nbconvert_exporter": "python",
   "pygments_lexer": "ipython3",
   "version": "3.7.10"
  },
  "papermill": {
   "default_parameters": {},
   "duration": 15.697869,
   "end_time": "2021-11-27T10:30:24.673649",
   "environment_variables": {},
   "exception": null,
   "input_path": "__notebook__.ipynb",
   "output_path": "__notebook__.ipynb",
   "parameters": {},
   "start_time": "2021-11-27T10:30:08.975780",
   "version": "2.3.3"
  }
 },
 "nbformat": 4,
 "nbformat_minor": 5
}
